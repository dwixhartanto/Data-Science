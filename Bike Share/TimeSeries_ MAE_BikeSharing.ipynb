{
 "cells": [
  {
   "cell_type": "markdown",
   "metadata": {
    "id": "rQ2i9p-zWFZ1"
   },
   "source": [
    "## LONDON BIKE SHARING \n",
    "\n",
    "Source data : https://www.kaggle.com/hmavrodiev/london-bike-sharing-dataset"
   ]
  },
  {
   "cell_type": "markdown",
   "metadata": {
    "id": "w6OwhRhTWlub"
   },
   "source": [
    "IMPORT LIBRARY"
   ]
  },
  {
   "cell_type": "code",
   "execution_count": 1,
   "metadata": {
    "id": "2SyIn1LVWJGJ"
   },
   "outputs": [],
   "source": [
    "import numpy as np\n",
    "import tensorflow as tf\n",
    "from tensorflow import keras\n",
    "import pandas as pd\n",
    "import seaborn as sns\n",
    "import matplotlib.pyplot as plt\n",
    "from sklearn.model_selection import train_test_split"
   ]
  },
  {
   "cell_type": "code",
   "execution_count": 2,
   "metadata": {
    "colab": {
     "base_uri": "https://localhost:8080/"
    },
    "id": "qhd4YpCIXP_C",
    "outputId": "ded7ea98-80e4-4d8f-a580-bc84a93af54f"
   },
   "outputs": [
    {
     "name": "stdout",
     "output_type": "stream",
     "text": [
      "Drive already mounted at /content/drive/; to attempt to forcibly remount, call drive.mount(\"/content/drive/\", force_remount=True).\n"
     ]
    }
   ],
   "source": [
    "from google.colab import drive\n",
    "drive.mount('/content/drive/')"
   ]
  },
  {
   "cell_type": "code",
   "execution_count": 4,
   "metadata": {
    "colab": {
     "base_uri": "https://localhost:8080/",
     "height": 206
    },
    "id": "mY-gsJ0JTxkq",
    "outputId": "47a5b051-3dd9-426f-927a-334457b18f36"
   },
   "outputs": [
    {
     "data": {
      "text/html": [
       "\n",
       "  <div id=\"df-57d9800f-5af9-40a1-b987-733ae4a9fa31\">\n",
       "    <div class=\"colab-df-container\">\n",
       "      <div>\n",
       "<style scoped>\n",
       "    .dataframe tbody tr th:only-of-type {\n",
       "        vertical-align: middle;\n",
       "    }\n",
       "\n",
       "    .dataframe tbody tr th {\n",
       "        vertical-align: top;\n",
       "    }\n",
       "\n",
       "    .dataframe thead th {\n",
       "        text-align: right;\n",
       "    }\n",
       "</style>\n",
       "<table border=\"1\" class=\"dataframe\">\n",
       "  <thead>\n",
       "    <tr style=\"text-align: right;\">\n",
       "      <th></th>\n",
       "      <th>timestamp</th>\n",
       "      <th>cnt</th>\n",
       "      <th>t1</th>\n",
       "      <th>t2</th>\n",
       "      <th>hum</th>\n",
       "      <th>wind_speed</th>\n",
       "      <th>weather_code</th>\n",
       "      <th>is_holiday</th>\n",
       "      <th>is_weekend</th>\n",
       "      <th>season</th>\n",
       "    </tr>\n",
       "  </thead>\n",
       "  <tbody>\n",
       "    <tr>\n",
       "      <th>0</th>\n",
       "      <td>2015-01-04 00:00:00</td>\n",
       "      <td>182</td>\n",
       "      <td>3.0</td>\n",
       "      <td>2.0</td>\n",
       "      <td>93.0</td>\n",
       "      <td>6.0</td>\n",
       "      <td>3.0</td>\n",
       "      <td>0.0</td>\n",
       "      <td>1.0</td>\n",
       "      <td>3.0</td>\n",
       "    </tr>\n",
       "    <tr>\n",
       "      <th>1</th>\n",
       "      <td>2015-01-04 01:00:00</td>\n",
       "      <td>138</td>\n",
       "      <td>3.0</td>\n",
       "      <td>2.5</td>\n",
       "      <td>93.0</td>\n",
       "      <td>5.0</td>\n",
       "      <td>1.0</td>\n",
       "      <td>0.0</td>\n",
       "      <td>1.0</td>\n",
       "      <td>3.0</td>\n",
       "    </tr>\n",
       "    <tr>\n",
       "      <th>2</th>\n",
       "      <td>2015-01-04 02:00:00</td>\n",
       "      <td>134</td>\n",
       "      <td>2.5</td>\n",
       "      <td>2.5</td>\n",
       "      <td>96.5</td>\n",
       "      <td>0.0</td>\n",
       "      <td>1.0</td>\n",
       "      <td>0.0</td>\n",
       "      <td>1.0</td>\n",
       "      <td>3.0</td>\n",
       "    </tr>\n",
       "    <tr>\n",
       "      <th>3</th>\n",
       "      <td>2015-01-04 03:00:00</td>\n",
       "      <td>72</td>\n",
       "      <td>2.0</td>\n",
       "      <td>2.0</td>\n",
       "      <td>100.0</td>\n",
       "      <td>0.0</td>\n",
       "      <td>1.0</td>\n",
       "      <td>0.0</td>\n",
       "      <td>1.0</td>\n",
       "      <td>3.0</td>\n",
       "    </tr>\n",
       "    <tr>\n",
       "      <th>4</th>\n",
       "      <td>2015-01-04 04:00:00</td>\n",
       "      <td>47</td>\n",
       "      <td>2.0</td>\n",
       "      <td>0.0</td>\n",
       "      <td>93.0</td>\n",
       "      <td>6.5</td>\n",
       "      <td>1.0</td>\n",
       "      <td>0.0</td>\n",
       "      <td>1.0</td>\n",
       "      <td>3.0</td>\n",
       "    </tr>\n",
       "  </tbody>\n",
       "</table>\n",
       "</div>\n",
       "      <button class=\"colab-df-convert\" onclick=\"convertToInteractive('df-57d9800f-5af9-40a1-b987-733ae4a9fa31')\"\n",
       "              title=\"Convert this dataframe to an interactive table.\"\n",
       "              style=\"display:none;\">\n",
       "        \n",
       "  <svg xmlns=\"http://www.w3.org/2000/svg\" height=\"24px\"viewBox=\"0 0 24 24\"\n",
       "       width=\"24px\">\n",
       "    <path d=\"M0 0h24v24H0V0z\" fill=\"none\"/>\n",
       "    <path d=\"M18.56 5.44l.94 2.06.94-2.06 2.06-.94-2.06-.94-.94-2.06-.94 2.06-2.06.94zm-11 1L8.5 8.5l.94-2.06 2.06-.94-2.06-.94L8.5 2.5l-.94 2.06-2.06.94zm10 10l.94 2.06.94-2.06 2.06-.94-2.06-.94-.94-2.06-.94 2.06-2.06.94z\"/><path d=\"M17.41 7.96l-1.37-1.37c-.4-.4-.92-.59-1.43-.59-.52 0-1.04.2-1.43.59L10.3 9.45l-7.72 7.72c-.78.78-.78 2.05 0 2.83L4 21.41c.39.39.9.59 1.41.59.51 0 1.02-.2 1.41-.59l7.78-7.78 2.81-2.81c.8-.78.8-2.07 0-2.86zM5.41 20L4 18.59l7.72-7.72 1.47 1.35L5.41 20z\"/>\n",
       "  </svg>\n",
       "      </button>\n",
       "      \n",
       "  <style>\n",
       "    .colab-df-container {\n",
       "      display:flex;\n",
       "      flex-wrap:wrap;\n",
       "      gap: 12px;\n",
       "    }\n",
       "\n",
       "    .colab-df-convert {\n",
       "      background-color: #E8F0FE;\n",
       "      border: none;\n",
       "      border-radius: 50%;\n",
       "      cursor: pointer;\n",
       "      display: none;\n",
       "      fill: #1967D2;\n",
       "      height: 32px;\n",
       "      padding: 0 0 0 0;\n",
       "      width: 32px;\n",
       "    }\n",
       "\n",
       "    .colab-df-convert:hover {\n",
       "      background-color: #E2EBFA;\n",
       "      box-shadow: 0px 1px 2px rgba(60, 64, 67, 0.3), 0px 1px 3px 1px rgba(60, 64, 67, 0.15);\n",
       "      fill: #174EA6;\n",
       "    }\n",
       "\n",
       "    [theme=dark] .colab-df-convert {\n",
       "      background-color: #3B4455;\n",
       "      fill: #D2E3FC;\n",
       "    }\n",
       "\n",
       "    [theme=dark] .colab-df-convert:hover {\n",
       "      background-color: #434B5C;\n",
       "      box-shadow: 0px 1px 3px 1px rgba(0, 0, 0, 0.15);\n",
       "      filter: drop-shadow(0px 1px 2px rgba(0, 0, 0, 0.3));\n",
       "      fill: #FFFFFF;\n",
       "    }\n",
       "  </style>\n",
       "\n",
       "      <script>\n",
       "        const buttonEl =\n",
       "          document.querySelector('#df-57d9800f-5af9-40a1-b987-733ae4a9fa31 button.colab-df-convert');\n",
       "        buttonEl.style.display =\n",
       "          google.colab.kernel.accessAllowed ? 'block' : 'none';\n",
       "\n",
       "        async function convertToInteractive(key) {\n",
       "          const element = document.querySelector('#df-57d9800f-5af9-40a1-b987-733ae4a9fa31');\n",
       "          const dataTable =\n",
       "            await google.colab.kernel.invokeFunction('convertToInteractive',\n",
       "                                                     [key], {});\n",
       "          if (!dataTable) return;\n",
       "\n",
       "          const docLinkHtml = 'Like what you see? Visit the ' +\n",
       "            '<a target=\"_blank\" href=https://colab.research.google.com/notebooks/data_table.ipynb>data table notebook</a>'\n",
       "            + ' to learn more about interactive tables.';\n",
       "          element.innerHTML = '';\n",
       "          dataTable['output_type'] = 'display_data';\n",
       "          await google.colab.output.renderOutput(dataTable, element);\n",
       "          const docLink = document.createElement('div');\n",
       "          docLink.innerHTML = docLinkHtml;\n",
       "          element.appendChild(docLink);\n",
       "        }\n",
       "      </script>\n",
       "    </div>\n",
       "  </div>\n",
       "  "
      ],
      "text/plain": [
       "            timestamp  cnt   t1  ...  is_holiday  is_weekend  season\n",
       "0 2015-01-04 00:00:00  182  3.0  ...         0.0         1.0     3.0\n",
       "1 2015-01-04 01:00:00  138  3.0  ...         0.0         1.0     3.0\n",
       "2 2015-01-04 02:00:00  134  2.5  ...         0.0         1.0     3.0\n",
       "3 2015-01-04 03:00:00   72  2.0  ...         0.0         1.0     3.0\n",
       "4 2015-01-04 04:00:00   47  2.0  ...         0.0         1.0     3.0\n",
       "\n",
       "[5 rows x 10 columns]"
      ]
     },
     "execution_count": 4,
     "metadata": {},
     "output_type": "execute_result"
    }
   ],
   "source": [
    "#Membaca file CSV\n",
    "df = pd.read_csv(\"/content/drive/My Drive/data/london_merged.csv\",parse_dates=['timestamp'])\n",
    "df.head()"
   ]
  },
  {
   "cell_type": "markdown",
   "metadata": {
    "id": "vqo2hhsquU7_"
   },
   "source": [
    "EXPLORATORY DATA ANALYSIS"
   ]
  },
  {
   "cell_type": "code",
   "execution_count": 5,
   "metadata": {
    "colab": {
     "base_uri": "https://localhost:8080/"
    },
    "id": "Z_Ok0q3PWExG",
    "outputId": "7f62a90a-a76e-4af4-c27b-87cd5ffbe79a"
   },
   "outputs": [
    {
     "name": "stdout",
     "output_type": "stream",
     "text": [
      "<class 'pandas.core.frame.DataFrame'>\n",
      "RangeIndex: 17414 entries, 0 to 17413\n",
      "Data columns (total 10 columns):\n",
      " #   Column        Non-Null Count  Dtype         \n",
      "---  ------        --------------  -----         \n",
      " 0   timestamp     17414 non-null  datetime64[ns]\n",
      " 1   cnt           17414 non-null  int64         \n",
      " 2   t1            17414 non-null  float64       \n",
      " 3   t2            17414 non-null  float64       \n",
      " 4   hum           17414 non-null  float64       \n",
      " 5   wind_speed    17414 non-null  float64       \n",
      " 6   weather_code  17414 non-null  float64       \n",
      " 7   is_holiday    17414 non-null  float64       \n",
      " 8   is_weekend    17414 non-null  float64       \n",
      " 9   season        17414 non-null  float64       \n",
      "dtypes: datetime64[ns](1), float64(8), int64(1)\n",
      "memory usage: 1.3 MB\n"
     ]
    }
   ],
   "source": [
    "#Info Dataframe\n",
    "df.info()"
   ]
  },
  {
   "cell_type": "code",
   "execution_count": 6,
   "metadata": {
    "colab": {
     "base_uri": "https://localhost:8080/"
    },
    "id": "BmlonBEguv33",
    "outputId": "ff158395-a8cf-4a46-d611-e706b6be9e3d"
   },
   "outputs": [
    {
     "data": {
      "text/plain": [
       "timestamp       0\n",
       "cnt             0\n",
       "t1              0\n",
       "t2              0\n",
       "hum             0\n",
       "wind_speed      0\n",
       "weather_code    0\n",
       "is_holiday      0\n",
       "is_weekend      0\n",
       "season          0\n",
       "dtype: int64"
      ]
     },
     "execution_count": 6,
     "metadata": {},
     "output_type": "execute_result"
    }
   ],
   "source": [
    "#Cek dataframe NULL\n",
    "df.isnull().sum()"
   ]
  },
  {
   "cell_type": "code",
   "execution_count": 7,
   "metadata": {
    "colab": {
     "base_uri": "https://localhost:8080/",
     "height": 300
    },
    "id": "1A7ZWLP40vZD",
    "outputId": "7f7f4739-b604-42ef-fa27-391b01e89104"
   },
   "outputs": [
    {
     "data": {
      "text/html": [
       "\n",
       "  <div id=\"df-d0e0d8f7-1e81-4ecf-b2f0-e2804796d9ba\">\n",
       "    <div class=\"colab-df-container\">\n",
       "      <div>\n",
       "<style scoped>\n",
       "    .dataframe tbody tr th:only-of-type {\n",
       "        vertical-align: middle;\n",
       "    }\n",
       "\n",
       "    .dataframe tbody tr th {\n",
       "        vertical-align: top;\n",
       "    }\n",
       "\n",
       "    .dataframe thead th {\n",
       "        text-align: right;\n",
       "    }\n",
       "</style>\n",
       "<table border=\"1\" class=\"dataframe\">\n",
       "  <thead>\n",
       "    <tr style=\"text-align: right;\">\n",
       "      <th></th>\n",
       "      <th>cnt</th>\n",
       "      <th>t1</th>\n",
       "      <th>t2</th>\n",
       "      <th>hum</th>\n",
       "      <th>wind_speed</th>\n",
       "      <th>weather_code</th>\n",
       "      <th>is_holiday</th>\n",
       "      <th>is_weekend</th>\n",
       "      <th>season</th>\n",
       "    </tr>\n",
       "  </thead>\n",
       "  <tbody>\n",
       "    <tr>\n",
       "      <th>count</th>\n",
       "      <td>17414.000000</td>\n",
       "      <td>17414.000000</td>\n",
       "      <td>17414.000000</td>\n",
       "      <td>17414.000000</td>\n",
       "      <td>17414.000000</td>\n",
       "      <td>17414.000000</td>\n",
       "      <td>17414.000000</td>\n",
       "      <td>17414.000000</td>\n",
       "      <td>17414.000000</td>\n",
       "    </tr>\n",
       "    <tr>\n",
       "      <th>mean</th>\n",
       "      <td>1143.101642</td>\n",
       "      <td>12.468091</td>\n",
       "      <td>11.520836</td>\n",
       "      <td>72.324954</td>\n",
       "      <td>15.913063</td>\n",
       "      <td>2.722752</td>\n",
       "      <td>0.022051</td>\n",
       "      <td>0.285403</td>\n",
       "      <td>1.492075</td>\n",
       "    </tr>\n",
       "    <tr>\n",
       "      <th>std</th>\n",
       "      <td>1085.108068</td>\n",
       "      <td>5.571818</td>\n",
       "      <td>6.615145</td>\n",
       "      <td>14.313186</td>\n",
       "      <td>7.894570</td>\n",
       "      <td>2.341163</td>\n",
       "      <td>0.146854</td>\n",
       "      <td>0.451619</td>\n",
       "      <td>1.118911</td>\n",
       "    </tr>\n",
       "    <tr>\n",
       "      <th>min</th>\n",
       "      <td>0.000000</td>\n",
       "      <td>-1.500000</td>\n",
       "      <td>-6.000000</td>\n",
       "      <td>20.500000</td>\n",
       "      <td>0.000000</td>\n",
       "      <td>1.000000</td>\n",
       "      <td>0.000000</td>\n",
       "      <td>0.000000</td>\n",
       "      <td>0.000000</td>\n",
       "    </tr>\n",
       "    <tr>\n",
       "      <th>25%</th>\n",
       "      <td>257.000000</td>\n",
       "      <td>8.000000</td>\n",
       "      <td>6.000000</td>\n",
       "      <td>63.000000</td>\n",
       "      <td>10.000000</td>\n",
       "      <td>1.000000</td>\n",
       "      <td>0.000000</td>\n",
       "      <td>0.000000</td>\n",
       "      <td>0.000000</td>\n",
       "    </tr>\n",
       "    <tr>\n",
       "      <th>50%</th>\n",
       "      <td>844.000000</td>\n",
       "      <td>12.500000</td>\n",
       "      <td>12.500000</td>\n",
       "      <td>74.500000</td>\n",
       "      <td>15.000000</td>\n",
       "      <td>2.000000</td>\n",
       "      <td>0.000000</td>\n",
       "      <td>0.000000</td>\n",
       "      <td>1.000000</td>\n",
       "    </tr>\n",
       "    <tr>\n",
       "      <th>75%</th>\n",
       "      <td>1671.750000</td>\n",
       "      <td>16.000000</td>\n",
       "      <td>16.000000</td>\n",
       "      <td>83.000000</td>\n",
       "      <td>20.500000</td>\n",
       "      <td>3.000000</td>\n",
       "      <td>0.000000</td>\n",
       "      <td>1.000000</td>\n",
       "      <td>2.000000</td>\n",
       "    </tr>\n",
       "    <tr>\n",
       "      <th>max</th>\n",
       "      <td>7860.000000</td>\n",
       "      <td>34.000000</td>\n",
       "      <td>34.000000</td>\n",
       "      <td>100.000000</td>\n",
       "      <td>56.500000</td>\n",
       "      <td>26.000000</td>\n",
       "      <td>1.000000</td>\n",
       "      <td>1.000000</td>\n",
       "      <td>3.000000</td>\n",
       "    </tr>\n",
       "  </tbody>\n",
       "</table>\n",
       "</div>\n",
       "      <button class=\"colab-df-convert\" onclick=\"convertToInteractive('df-d0e0d8f7-1e81-4ecf-b2f0-e2804796d9ba')\"\n",
       "              title=\"Convert this dataframe to an interactive table.\"\n",
       "              style=\"display:none;\">\n",
       "        \n",
       "  <svg xmlns=\"http://www.w3.org/2000/svg\" height=\"24px\"viewBox=\"0 0 24 24\"\n",
       "       width=\"24px\">\n",
       "    <path d=\"M0 0h24v24H0V0z\" fill=\"none\"/>\n",
       "    <path d=\"M18.56 5.44l.94 2.06.94-2.06 2.06-.94-2.06-.94-.94-2.06-.94 2.06-2.06.94zm-11 1L8.5 8.5l.94-2.06 2.06-.94-2.06-.94L8.5 2.5l-.94 2.06-2.06.94zm10 10l.94 2.06.94-2.06 2.06-.94-2.06-.94-.94-2.06-.94 2.06-2.06.94z\"/><path d=\"M17.41 7.96l-1.37-1.37c-.4-.4-.92-.59-1.43-.59-.52 0-1.04.2-1.43.59L10.3 9.45l-7.72 7.72c-.78.78-.78 2.05 0 2.83L4 21.41c.39.39.9.59 1.41.59.51 0 1.02-.2 1.41-.59l7.78-7.78 2.81-2.81c.8-.78.8-2.07 0-2.86zM5.41 20L4 18.59l7.72-7.72 1.47 1.35L5.41 20z\"/>\n",
       "  </svg>\n",
       "      </button>\n",
       "      \n",
       "  <style>\n",
       "    .colab-df-container {\n",
       "      display:flex;\n",
       "      flex-wrap:wrap;\n",
       "      gap: 12px;\n",
       "    }\n",
       "\n",
       "    .colab-df-convert {\n",
       "      background-color: #E8F0FE;\n",
       "      border: none;\n",
       "      border-radius: 50%;\n",
       "      cursor: pointer;\n",
       "      display: none;\n",
       "      fill: #1967D2;\n",
       "      height: 32px;\n",
       "      padding: 0 0 0 0;\n",
       "      width: 32px;\n",
       "    }\n",
       "\n",
       "    .colab-df-convert:hover {\n",
       "      background-color: #E2EBFA;\n",
       "      box-shadow: 0px 1px 2px rgba(60, 64, 67, 0.3), 0px 1px 3px 1px rgba(60, 64, 67, 0.15);\n",
       "      fill: #174EA6;\n",
       "    }\n",
       "\n",
       "    [theme=dark] .colab-df-convert {\n",
       "      background-color: #3B4455;\n",
       "      fill: #D2E3FC;\n",
       "    }\n",
       "\n",
       "    [theme=dark] .colab-df-convert:hover {\n",
       "      background-color: #434B5C;\n",
       "      box-shadow: 0px 1px 3px 1px rgba(0, 0, 0, 0.15);\n",
       "      filter: drop-shadow(0px 1px 2px rgba(0, 0, 0, 0.3));\n",
       "      fill: #FFFFFF;\n",
       "    }\n",
       "  </style>\n",
       "\n",
       "      <script>\n",
       "        const buttonEl =\n",
       "          document.querySelector('#df-d0e0d8f7-1e81-4ecf-b2f0-e2804796d9ba button.colab-df-convert');\n",
       "        buttonEl.style.display =\n",
       "          google.colab.kernel.accessAllowed ? 'block' : 'none';\n",
       "\n",
       "        async function convertToInteractive(key) {\n",
       "          const element = document.querySelector('#df-d0e0d8f7-1e81-4ecf-b2f0-e2804796d9ba');\n",
       "          const dataTable =\n",
       "            await google.colab.kernel.invokeFunction('convertToInteractive',\n",
       "                                                     [key], {});\n",
       "          if (!dataTable) return;\n",
       "\n",
       "          const docLinkHtml = 'Like what you see? Visit the ' +\n",
       "            '<a target=\"_blank\" href=https://colab.research.google.com/notebooks/data_table.ipynb>data table notebook</a>'\n",
       "            + ' to learn more about interactive tables.';\n",
       "          element.innerHTML = '';\n",
       "          dataTable['output_type'] = 'display_data';\n",
       "          await google.colab.output.renderOutput(dataTable, element);\n",
       "          const docLink = document.createElement('div');\n",
       "          docLink.innerHTML = docLinkHtml;\n",
       "          element.appendChild(docLink);\n",
       "        }\n",
       "      </script>\n",
       "    </div>\n",
       "  </div>\n",
       "  "
      ],
      "text/plain": [
       "                cnt            t1  ...    is_weekend        season\n",
       "count  17414.000000  17414.000000  ...  17414.000000  17414.000000\n",
       "mean    1143.101642     12.468091  ...      0.285403      1.492075\n",
       "std     1085.108068      5.571818  ...      0.451619      1.118911\n",
       "min        0.000000     -1.500000  ...      0.000000      0.000000\n",
       "25%      257.000000      8.000000  ...      0.000000      0.000000\n",
       "50%      844.000000     12.500000  ...      0.000000      1.000000\n",
       "75%     1671.750000     16.000000  ...      1.000000      2.000000\n",
       "max     7860.000000     34.000000  ...      1.000000      3.000000\n",
       "\n",
       "[8 rows x 9 columns]"
      ]
     },
     "execution_count": 7,
     "metadata": {},
     "output_type": "execute_result"
    }
   ],
   "source": [
    "#describe dataframe\n",
    "df.describe()"
   ]
  },
  {
   "cell_type": "code",
   "execution_count": 8,
   "metadata": {
    "colab": {
     "base_uri": "https://localhost:8080/",
     "height": 316
    },
    "id": "d0HR_cj2vMTZ",
    "outputId": "17539a34-f183-4116-d76c-92529c10adc8"
   },
   "outputs": [
    {
     "data": {
      "image/png": "[encoded data removed]",
      "text/plain": [
       "<Figure size 432x288 with 2 Axes>"
      ]
     },
     "metadata": {
      "needs_background": "light"
     },
     "output_type": "display_data"
    }
   ],
   "source": [
    "#Matrix Korelasi\n",
    "corr = df.corr()\n",
    "ax = sns.heatmap(\n",
    "    corr, \n",
    "    vmin=-1, vmax=1, center=0,\n",
    "    cmap=sns.diverging_palette(20, 220, n=200),\n",
    "    square=True\n",
    ")\n",
    "ax.set_xticklabels(\n",
    "    ax.get_xticklabels(),\n",
    "    rotation=45,\n",
    "    horizontalalignment='right'\n",
    ");"
   ]
  },
  {
   "cell_type": "markdown",
   "metadata": {
    "id": "kTRUc1a3cIuX"
   },
   "source": [
    "Keterangan kolom \n",
    "1. \"timestamp\" - timestamp field for grouping the data\n",
    "1. \"cnt\" - the count of a new bike shares\n",
    "1. \"t1\" - real temperature in C\n",
    "1. \"t2\" - temperature in C \"feels like\"\n",
    "1. \"hum\" - humidity in percentage\n",
    "1. \"windspeed\" - wind speed in km/h\n",
    "1. \"weathercode\" - category of the weather\n",
    "1. \"isholiday\" - boolean field - 1 holiday / 0 non holiday\n",
    "1. \"isweekend\" - boolean field - 1 if the day is weekend\n",
    "1. \"season\" - category field meteorological seasons: 0-spring ; 1-summer; 2-fall; 3-winter.\n",
    "\n",
    "1. \"weather_code\" category description:\n",
    "1 = Clear ; mostly clear but have some values with haze/fog/patches of fog/ fog in vicinity 2 = scattered clouds / few clouds 3 = Broken clouds 4 = Cloudy 7 = Rain/ light Rain shower/ Light rain 10 = rain with thunderstorm 26 = snowfall 94 = Freezing Fog"
   ]
  },
  {
   "cell_type": "markdown",
   "metadata": {
    "id": "vuXt1jLdciFj"
   },
   "source": [
    "SET INDEX DATETIME"
   ]
  },
  {
   "cell_type": "code",
   "execution_count": 9,
   "metadata": {
    "colab": {
     "base_uri": "https://localhost:8080/"
    },
    "id": "fi4UVCBTcRW3",
    "outputId": "230eee43-c664-4b1f-d484-380c08508a55"
   },
   "outputs": [
    {
     "data": {
      "text/plain": [
       "0       2015-01-04 00:00:00\n",
       "1       2015-01-04 01:00:00\n",
       "2       2015-01-04 02:00:00\n",
       "3       2015-01-04 03:00:00\n",
       "4       2015-01-04 04:00:00\n",
       "                ...        \n",
       "17409   2017-01-03 19:00:00\n",
       "17410   2017-01-03 20:00:00\n",
       "17411   2017-01-03 21:00:00\n",
       "17412   2017-01-03 22:00:00\n",
       "17413   2017-01-03 23:00:00\n",
       "Name: timestamp, Length: 17414, dtype: datetime64[ns]"
      ]
     },
     "execution_count": 9,
     "metadata": {},
     "output_type": "execute_result"
    }
   ],
   "source": [
    "dates = pd.to_datetime(df['timestamp'])\n",
    "dates"
   ]
  },
  {
   "cell_type": "code",
   "execution_count": 10,
   "metadata": {
    "colab": {
     "base_uri": "https://localhost:8080/",
     "height": 238
    },
    "id": "JA5zxXu7clcz",
    "outputId": "c0ef9a41-e862-49a0-d041-d3e315e6233c"
   },
   "outputs": [
    {
     "data": {
      "text/html": [
       "\n",
       "  <div id=\"df-948a4931-d9fd-4d25-8e0a-26ca820491f9\">\n",
       "    <div class=\"colab-df-container\">\n",
       "      <div>\n",
       "<style scoped>\n",
       "    .dataframe tbody tr th:only-of-type {\n",
       "        vertical-align: middle;\n",
       "    }\n",
       "\n",
       "    .dataframe tbody tr th {\n",
       "        vertical-align: top;\n",
       "    }\n",
       "\n",
       "    .dataframe thead th {\n",
       "        text-align: right;\n",
       "    }\n",
       "</style>\n",
       "<table border=\"1\" class=\"dataframe\">\n",
       "  <thead>\n",
       "    <tr style=\"text-align: right;\">\n",
       "      <th></th>\n",
       "      <th>cnt</th>\n",
       "      <th>t1</th>\n",
       "      <th>t2</th>\n",
       "      <th>hum</th>\n",
       "      <th>wind_speed</th>\n",
       "      <th>weather_code</th>\n",
       "      <th>is_holiday</th>\n",
       "      <th>is_weekend</th>\n",
       "      <th>season</th>\n",
       "    </tr>\n",
       "    <tr>\n",
       "      <th>timestamp</th>\n",
       "      <th></th>\n",
       "      <th></th>\n",
       "      <th></th>\n",
       "      <th></th>\n",
       "      <th></th>\n",
       "      <th></th>\n",
       "      <th></th>\n",
       "      <th></th>\n",
       "      <th></th>\n",
       "    </tr>\n",
       "  </thead>\n",
       "  <tbody>\n",
       "    <tr>\n",
       "      <th>2015-01-04 00:00:00</th>\n",
       "      <td>182</td>\n",
       "      <td>3.0</td>\n",
       "      <td>2.0</td>\n",
       "      <td>93.0</td>\n",
       "      <td>6.0</td>\n",
       "      <td>3.0</td>\n",
       "      <td>0.0</td>\n",
       "      <td>1.0</td>\n",
       "      <td>3.0</td>\n",
       "    </tr>\n",
       "    <tr>\n",
       "      <th>2015-01-04 01:00:00</th>\n",
       "      <td>138</td>\n",
       "      <td>3.0</td>\n",
       "      <td>2.5</td>\n",
       "      <td>93.0</td>\n",
       "      <td>5.0</td>\n",
       "      <td>1.0</td>\n",
       "      <td>0.0</td>\n",
       "      <td>1.0</td>\n",
       "      <td>3.0</td>\n",
       "    </tr>\n",
       "    <tr>\n",
       "      <th>2015-01-04 02:00:00</th>\n",
       "      <td>134</td>\n",
       "      <td>2.5</td>\n",
       "      <td>2.5</td>\n",
       "      <td>96.5</td>\n",
       "      <td>0.0</td>\n",
       "      <td>1.0</td>\n",
       "      <td>0.0</td>\n",
       "      <td>1.0</td>\n",
       "      <td>3.0</td>\n",
       "    </tr>\n",
       "    <tr>\n",
       "      <th>2015-01-04 03:00:00</th>\n",
       "      <td>72</td>\n",
       "      <td>2.0</td>\n",
       "      <td>2.0</td>\n",
       "      <td>100.0</td>\n",
       "      <td>0.0</td>\n",
       "      <td>1.0</td>\n",
       "      <td>0.0</td>\n",
       "      <td>1.0</td>\n",
       "      <td>3.0</td>\n",
       "    </tr>\n",
       "    <tr>\n",
       "      <th>2015-01-04 04:00:00</th>\n",
       "      <td>47</td>\n",
       "      <td>2.0</td>\n",
       "      <td>0.0</td>\n",
       "      <td>93.0</td>\n",
       "      <td>6.5</td>\n",
       "      <td>1.0</td>\n",
       "      <td>0.0</td>\n",
       "      <td>1.0</td>\n",
       "      <td>3.0</td>\n",
       "    </tr>\n",
       "  </tbody>\n",
       "</table>\n",
       "</div>\n",
       "      <button class=\"colab-df-convert\" onclick=\"convertToInteractive('df-948a4931-d9fd-4d25-8e0a-26ca820491f9')\"\n",
       "              title=\"Convert this dataframe to an interactive table.\"\n",
       "              style=\"display:none;\">\n",
       "        \n",
       "  <svg xmlns=\"http://www.w3.org/2000/svg\" height=\"24px\"viewBox=\"0 0 24 24\"\n",
       "       width=\"24px\">\n",
       "    <path d=\"M0 0h24v24H0V0z\" fill=\"none\"/>\n",
       "    <path d=\"M18.56 5.44l.94 2.06.94-2.06 2.06-.94-2.06-.94-.94-2.06-.94 2.06-2.06.94zm-11 1L8.5 8.5l.94-2.06 2.06-.94-2.06-.94L8.5 2.5l-.94 2.06-2.06.94zm10 10l.94 2.06.94-2.06 2.06-.94-2.06-.94-.94-2.06-.94 2.06-2.06.94z\"/><path d=\"M17.41 7.96l-1.37-1.37c-.4-.4-.92-.59-1.43-.59-.52 0-1.04.2-1.43.59L10.3 9.45l-7.72 7.72c-.78.78-.78 2.05 0 2.83L4 21.41c.39.39.9.59 1.41.59.51 0 1.02-.2 1.41-.59l7.78-7.78 2.81-2.81c.8-.78.8-2.07 0-2.86zM5.41 20L4 18.59l7.72-7.72 1.47 1.35L5.41 20z\"/>\n",
       "  </svg>\n",
       "      </button>\n",
       "      \n",
       "  <style>\n",
       "    .colab-df-container {\n",
       "      display:flex;\n",
       "      flex-wrap:wrap;\n",
       "      gap: 12px;\n",
       "    }\n",
       "\n",
       "    .colab-df-convert {\n",
       "      background-color: #E8F0FE;\n",
       "      border: none;\n",
       "      border-radius: 50%;\n",
       "      cursor: pointer;\n",
       "      display: none;\n",
       "      fill: #1967D2;\n",
       "      height: 32px;\n",
       "      padding: 0 0 0 0;\n",
       "      width: 32px;\n",
       "    }\n",
       "\n",
       "    .colab-df-convert:hover {\n",
       "      background-color: #E2EBFA;\n",
       "      box-shadow: 0px 1px 2px rgba(60, 64, 67, 0.3), 0px 1px 3px 1px rgba(60, 64, 67, 0.15);\n",
       "      fill: #174EA6;\n",
       "    }\n",
       "\n",
       "    [theme=dark] .colab-df-convert {\n",
       "      background-color: #3B4455;\n",
       "      fill: #D2E3FC;\n",
       "    }\n",
       "\n",
       "    [theme=dark] .colab-df-convert:hover {\n",
       "      background-color: #434B5C;\n",
       "      box-shadow: 0px 1px 3px 1px rgba(0, 0, 0, 0.15);\n",
       "      filter: drop-shadow(0px 1px 2px rgba(0, 0, 0, 0.3));\n",
       "      fill: #FFFFFF;\n",
       "    }\n",
       "  </style>\n",
       "\n",
       "      <script>\n",
       "        const buttonEl =\n",
       "          document.querySelector('#df-948a4931-d9fd-4d25-8e0a-26ca820491f9 button.colab-df-convert');\n",
       "        buttonEl.style.display =\n",
       "          google.colab.kernel.accessAllowed ? 'block' : 'none';\n",
       "\n",
       "        async function convertToInteractive(key) {\n",
       "          const element = document.querySelector('#df-948a4931-d9fd-4d25-8e0a-26ca820491f9');\n",
       "          const dataTable =\n",
       "            await google.colab.kernel.invokeFunction('convertToInteractive',\n",
       "                                                     [key], {});\n",
       "          if (!dataTable) return;\n",
       "\n",
       "          const docLinkHtml = 'Like what you see? Visit the ' +\n",
       "            '<a target=\"_blank\" href=https://colab.research.google.com/notebooks/data_table.ipynb>data table notebook</a>'\n",
       "            + ' to learn more about interactive tables.';\n",
       "          element.innerHTML = '';\n",
       "          dataTable['output_type'] = 'display_data';\n",
       "          await google.colab.output.renderOutput(dataTable, element);\n",
       "          const docLink = document.createElement('div');\n",
       "          docLink.innerHTML = docLinkHtml;\n",
       "          element.appendChild(docLink);\n",
       "        }\n",
       "      </script>\n",
       "    </div>\n",
       "  </div>\n",
       "  "
      ],
      "text/plain": [
       "                     cnt   t1   t2  ...  is_holiday  is_weekend  season\n",
       "timestamp                           ...                                \n",
       "2015-01-04 00:00:00  182  3.0  2.0  ...         0.0         1.0     3.0\n",
       "2015-01-04 01:00:00  138  3.0  2.5  ...         0.0         1.0     3.0\n",
       "2015-01-04 02:00:00  134  2.5  2.5  ...         0.0         1.0     3.0\n",
       "2015-01-04 03:00:00   72  2.0  2.0  ...         0.0         1.0     3.0\n",
       "2015-01-04 04:00:00   47  2.0  0.0  ...         0.0         1.0     3.0\n",
       "\n",
       "[5 rows x 9 columns]"
      ]
     },
     "execution_count": 10,
     "metadata": {},
     "output_type": "execute_result"
    }
   ],
   "source": [
    "#ubah index timestamp\n",
    "df = df.set_index('timestamp')\n",
    "df.head()"
   ]
  },
  {
   "cell_type": "code",
   "execution_count": 11,
   "metadata": {
    "colab": {
     "base_uri": "https://localhost:8080/"
    },
    "id": "qzZrvuxdokiN",
    "outputId": "6adc3e47-91a6-4ba4-f186-31c688010703"
   },
   "outputs": [
    {
     "name": "stdout",
     "output_type": "stream",
     "text": [
      "<class 'pandas.core.frame.DataFrame'>\n",
      "DatetimeIndex: 17414 entries, 2015-01-04 00:00:00 to 2017-01-03 23:00:00\n",
      "Data columns (total 9 columns):\n",
      " #   Column        Non-Null Count  Dtype  \n",
      "---  ------        --------------  -----  \n",
      " 0   cnt           17414 non-null  int64  \n",
      " 1   t1            17414 non-null  float64\n",
      " 2   t2            17414 non-null  float64\n",
      " 3   hum           17414 non-null  float64\n",
      " 4   wind_speed    17414 non-null  float64\n",
      " 5   weather_code  17414 non-null  float64\n",
      " 6   is_holiday    17414 non-null  float64\n",
      " 7   is_weekend    17414 non-null  float64\n",
      " 8   season        17414 non-null  float64\n",
      "dtypes: float64(8), int64(1)\n",
      "memory usage: 1.3 MB\n"
     ]
    }
   ],
   "source": [
    "df.info()"
   ]
  },
  {
   "cell_type": "code",
   "execution_count": 12,
   "metadata": {
    "colab": {
     "base_uri": "https://localhost:8080/",
     "height": 238
    },
    "id": "qsGoYS2408_w",
    "outputId": "6e5a3d32-5144-4c9a-9921-62d2352f69ba"
   },
   "outputs": [
    {
     "data": {
      "text/html": [
       "\n",
       "  <div id=\"df-cc276517-118e-4289-b717-5461c2151950\">\n",
       "    <div class=\"colab-df-container\">\n",
       "      <div>\n",
       "<style scoped>\n",
       "    .dataframe tbody tr th:only-of-type {\n",
       "        vertical-align: middle;\n",
       "    }\n",
       "\n",
       "    .dataframe tbody tr th {\n",
       "        vertical-align: top;\n",
       "    }\n",
       "\n",
       "    .dataframe thead th {\n",
       "        text-align: right;\n",
       "    }\n",
       "</style>\n",
       "<table border=\"1\" class=\"dataframe\">\n",
       "  <thead>\n",
       "    <tr style=\"text-align: right;\">\n",
       "      <th></th>\n",
       "      <th>cnt</th>\n",
       "      <th>t1</th>\n",
       "      <th>t2</th>\n",
       "      <th>hum</th>\n",
       "      <th>wind_speed</th>\n",
       "      <th>weather_code</th>\n",
       "      <th>is_holiday</th>\n",
       "      <th>is_weekend</th>\n",
       "      <th>season</th>\n",
       "    </tr>\n",
       "    <tr>\n",
       "      <th>timestamp</th>\n",
       "      <th></th>\n",
       "      <th></th>\n",
       "      <th></th>\n",
       "      <th></th>\n",
       "      <th></th>\n",
       "      <th></th>\n",
       "      <th></th>\n",
       "      <th></th>\n",
       "      <th></th>\n",
       "    </tr>\n",
       "  </thead>\n",
       "  <tbody>\n",
       "    <tr>\n",
       "      <th>2015-01-04 00:00:00</th>\n",
       "      <td>182</td>\n",
       "      <td>3.0</td>\n",
       "      <td>2.0</td>\n",
       "      <td>93.0</td>\n",
       "      <td>6.0</td>\n",
       "      <td>3.0</td>\n",
       "      <td>0.0</td>\n",
       "      <td>1.0</td>\n",
       "      <td>3.0</td>\n",
       "    </tr>\n",
       "    <tr>\n",
       "      <th>2015-01-04 01:00:00</th>\n",
       "      <td>138</td>\n",
       "      <td>3.0</td>\n",
       "      <td>2.5</td>\n",
       "      <td>93.0</td>\n",
       "      <td>5.0</td>\n",
       "      <td>1.0</td>\n",
       "      <td>0.0</td>\n",
       "      <td>1.0</td>\n",
       "      <td>3.0</td>\n",
       "    </tr>\n",
       "    <tr>\n",
       "      <th>2015-01-04 02:00:00</th>\n",
       "      <td>134</td>\n",
       "      <td>2.5</td>\n",
       "      <td>2.5</td>\n",
       "      <td>96.5</td>\n",
       "      <td>0.0</td>\n",
       "      <td>1.0</td>\n",
       "      <td>0.0</td>\n",
       "      <td>1.0</td>\n",
       "      <td>3.0</td>\n",
       "    </tr>\n",
       "    <tr>\n",
       "      <th>2015-01-04 03:00:00</th>\n",
       "      <td>72</td>\n",
       "      <td>2.0</td>\n",
       "      <td>2.0</td>\n",
       "      <td>100.0</td>\n",
       "      <td>0.0</td>\n",
       "      <td>1.0</td>\n",
       "      <td>0.0</td>\n",
       "      <td>1.0</td>\n",
       "      <td>3.0</td>\n",
       "    </tr>\n",
       "    <tr>\n",
       "      <th>2015-01-04 04:00:00</th>\n",
       "      <td>47</td>\n",
       "      <td>2.0</td>\n",
       "      <td>0.0</td>\n",
       "      <td>93.0</td>\n",
       "      <td>6.5</td>\n",
       "      <td>1.0</td>\n",
       "      <td>0.0</td>\n",
       "      <td>1.0</td>\n",
       "      <td>3.0</td>\n",
       "    </tr>\n",
       "  </tbody>\n",
       "</table>\n",
       "</div>\n",
       "      <button class=\"colab-df-convert\" onclick=\"convertToInteractive('df-cc276517-118e-4289-b717-5461c2151950')\"\n",
       "              title=\"Convert this dataframe to an interactive table.\"\n",
       "              style=\"display:none;\">\n",
       "        \n",
       "  <svg xmlns=\"http://www.w3.org/2000/svg\" height=\"24px\"viewBox=\"0 0 24 24\"\n",
       "       width=\"24px\">\n",
       "    <path d=\"M0 0h24v24H0V0z\" fill=\"none\"/>\n",
       "    <path d=\"M18.56 5.44l.94 2.06.94-2.06 2.06-.94-2.06-.94-.94-2.06-.94 2.06-2.06.94zm-11 1L8.5 8.5l.94-2.06 2.06-.94-2.06-.94L8.5 2.5l-.94 2.06-2.06.94zm10 10l.94 2.06.94-2.06 2.06-.94-2.06-.94-.94-2.06-.94 2.06-2.06.94z\"/><path d=\"M17.41 7.96l-1.37-1.37c-.4-.4-.92-.59-1.43-.59-.52 0-1.04.2-1.43.59L10.3 9.45l-7.72 7.72c-.78.78-.78 2.05 0 2.83L4 21.41c.39.39.9.59 1.41.59.51 0 1.02-.2 1.41-.59l7.78-7.78 2.81-2.81c.8-.78.8-2.07 0-2.86zM5.41 20L4 18.59l7.72-7.72 1.47 1.35L5.41 20z\"/>\n",
       "  </svg>\n",
       "      </button>\n",
       "      \n",
       "  <style>\n",
       "    .colab-df-container {\n",
       "      display:flex;\n",
       "      flex-wrap:wrap;\n",
       "      gap: 12px;\n",
       "    }\n",
       "\n",
       "    .colab-df-convert {\n",
       "      background-color: #E8F0FE;\n",
       "      border: none;\n",
       "      border-radius: 50%;\n",
       "      cursor: pointer;\n",
       "      display: none;\n",
       "      fill: #1967D2;\n",
       "      height: 32px;\n",
       "      padding: 0 0 0 0;\n",
       "      width: 32px;\n",
       "    }\n",
       "\n",
       "    .colab-df-convert:hover {\n",
       "      background-color: #E2EBFA;\n",
       "      box-shadow: 0px 1px 2px rgba(60, 64, 67, 0.3), 0px 1px 3px 1px rgba(60, 64, 67, 0.15);\n",
       "      fill: #174EA6;\n",
       "    }\n",
       "\n",
       "    [theme=dark] .colab-df-convert {\n",
       "      background-color: #3B4455;\n",
       "      fill: #D2E3FC;\n",
       "    }\n",
       "\n",
       "    [theme=dark] .colab-df-convert:hover {\n",
       "      background-color: #434B5C;\n",
       "      box-shadow: 0px 1px 3px 1px rgba(0, 0, 0, 0.15);\n",
       "      filter: drop-shadow(0px 1px 2px rgba(0, 0, 0, 0.3));\n",
       "      fill: #FFFFFF;\n",
       "    }\n",
       "  </style>\n",
       "\n",
       "      <script>\n",
       "        const buttonEl =\n",
       "          document.querySelector('#df-cc276517-118e-4289-b717-5461c2151950 button.colab-df-convert');\n",
       "        buttonEl.style.display =\n",
       "          google.colab.kernel.accessAllowed ? 'block' : 'none';\n",
       "\n",
       "        async function convertToInteractive(key) {\n",
       "          const element = document.querySelector('#df-cc276517-118e-4289-b717-5461c2151950');\n",
       "          const dataTable =\n",
       "            await google.colab.kernel.invokeFunction('convertToInteractive',\n",
       "                                                     [key], {});\n",
       "          if (!dataTable) return;\n",
       "\n",
       "          const docLinkHtml = 'Like what you see? Visit the ' +\n",
       "            '<a target=\"_blank\" href=https://colab.research.google.com/notebooks/data_table.ipynb>data table notebook</a>'\n",
       "            + ' to learn more about interactive tables.';\n",
       "          element.innerHTML = '';\n",
       "          dataTable['output_type'] = 'display_data';\n",
       "          await google.colab.output.renderOutput(dataTable, element);\n",
       "          const docLink = document.createElement('div');\n",
       "          docLink.innerHTML = docLinkHtml;\n",
       "          element.appendChild(docLink);\n",
       "        }\n",
       "      </script>\n",
       "    </div>\n",
       "  </div>\n",
       "  "
      ],
      "text/plain": [
       "                     cnt   t1   t2  ...  is_holiday  is_weekend  season\n",
       "timestamp                           ...                                \n",
       "2015-01-04 00:00:00  182  3.0  2.0  ...         0.0         1.0     3.0\n",
       "2015-01-04 01:00:00  138  3.0  2.5  ...         0.0         1.0     3.0\n",
       "2015-01-04 02:00:00  134  2.5  2.5  ...         0.0         1.0     3.0\n",
       "2015-01-04 03:00:00   72  2.0  2.0  ...         0.0         1.0     3.0\n",
       "2015-01-04 04:00:00   47  2.0  0.0  ...         0.0         1.0     3.0\n",
       "\n",
       "[5 rows x 9 columns]"
      ]
     },
     "execution_count": 12,
     "metadata": {},
     "output_type": "execute_result"
    }
   ],
   "source": [
    "df.head()"
   ]
  },
  {
   "cell_type": "markdown",
   "metadata": {
    "id": "GgndjqFGnVKi"
   },
   "source": [
    "Time Series Plot"
   ]
  },
  {
   "cell_type": "code",
   "execution_count": 13,
   "metadata": {
    "colab": {
     "base_uri": "https://localhost:8080/",
     "height": 449
    },
    "id": "mwpv1usYdHP4",
    "outputId": "ac504039-5c8f-4894-fb3a-8108660332cc"
   },
   "outputs": [
    {
     "data": {
      "image/png": "[encoded data removed]",
      "text/plain": [
       "<Figure size 1440x504 with 1 Axes>"
      ]
     },
     "metadata": {
      "needs_background": "light"
     },
     "output_type": "display_data"
    }
   ],
   "source": [
    "    datetime = df.index.values\n",
    "    cnt  = df['cnt'].values   \n",
    "     \n",
    "    plt.figure(figsize=(20,7))\n",
    "    plt.plot(datetime, cnt)\n",
    "    plt.title('Bike Share & Time',\n",
    "              fontsize=20);\n"
   ]
  },
  {
   "cell_type": "markdown",
   "metadata": {
    "id": "aUIc8XxT7nVg"
   },
   "source": [
    "MODELING"
   ]
  },
  {
   "cell_type": "code",
   "execution_count": 14,
   "metadata": {
    "id": "wxbNNzys7pc4"
   },
   "outputs": [],
   "source": [
    "#Fungsi window dataset \n",
    "def windowed_dataset(series, window_size, batch_size, shuffle_buffer):\n",
    "    series = tf.expand_dims(series, axis=-1)\n",
    "    ds = tf.data.Dataset.from_tensor_slices(series)\n",
    "    ds = ds.window(window_size + 1, shift=1, drop_remainder=True)\n",
    "    ds = ds.flat_map(lambda w: w.batch(window_size + 1))\n",
    "    ds = ds.shuffle(shuffle_buffer)\n",
    "    ds = ds.map(lambda w: (w[:-1], w[-1:]))\n",
    "    return ds.batch(batch_size).prefetch(1)"
   ]
  },
  {
   "cell_type": "code",
   "execution_count": 15,
   "metadata": {
    "colab": {
     "base_uri": "https://localhost:8080/"
    },
    "id": "idDmJltldHbP",
    "outputId": "fe8c7f93-6cc4-4d27-8702-d8dee7aa6887"
   },
   "outputs": [
    {
     "name": "stdout",
     "output_type": "stream",
     "text": [
      "13931 3483\n"
     ]
    }
   ],
   "source": [
    "#Split data\n",
    "from sklearn.model_selection import train_test_split\n",
    "\n",
    "x_train, x_test, y_train, y_test = train_test_split(cnt,datetime,test_size = 0.2, random_state = 0 , shuffle=False)\n",
    "print(len(x_train), len(x_test))"
   ]
  },
  {
   "cell_type": "code",
   "execution_count": 16,
   "metadata": {
    "id": "FuHKZ0QM8eRS"
   },
   "outputs": [],
   "source": [
    "# Pembuatan model sequential\n",
    "from keras.layers import Dense, LSTM\n",
    "\n",
    "data_x_train = windowed_dataset(x_train, window_size=60, batch_size=80, shuffle_buffer=1000)\n",
    "data_x_test = windowed_dataset(x_test, window_size=60, batch_size=80, shuffle_buffer=1000)\n",
    "\n",
    "model = tf.keras.models.Sequential([\n",
    "  tf.keras.layers.Conv1D(filters=32, kernel_size=5,\n",
    "                      strides=1, padding=\"causal\",\n",
    "                      activation=\"relu\",\n",
    "                      input_shape=[None, 1]),\n",
    "  tf.keras.layers.LSTM(60, return_sequences=True),\n",
    "  tf.keras.layers.LSTM(60),\n",
    "  tf.keras.layers.Dense(30, activation=\"relu\"),\n",
    "  tf.keras.layers.Dense(10, activation=\"relu\"),\n",
    "  tf.keras.layers.Dense(1),\n",
    "  tf.keras.layers.Lambda(lambda x: x * 400)\n",
    "])\n",
    "\n",
    "lr_schedule = tf.keras.callbacks.LearningRateScheduler(\n",
    "    lambda epoch: 1e-8 * 10**(epoch / 20))\n",
    "optimizer = tf.keras.optimizers.SGD(learning_rate=1e-8, momentum=0.9)\n",
    "model.compile(loss=tf.keras.losses.Huber(),\n",
    "              optimizer=optimizer,\n",
    "              metrics=[\"mae\"])"
   ]
  },
  {
   "cell_type": "code",
   "execution_count": 17,
   "metadata": {
    "colab": {
     "base_uri": "https://localhost:8080/"
    },
    "id": "Amv2t1hg_lTm",
    "outputId": "5e279300-0818-4f35-8492-bce191d338a4"
   },
   "outputs": [
    {
     "name": "stdout",
     "output_type": "stream",
     "text": [
      "786.0\n"
     ]
    }
   ],
   "source": [
    "#MAE yang diharapkan Cnt,(nilai max - nilai min)*10%\n",
    "x = (7860 - 0) * (10 / 100)\n",
    "print(x)"
   ]
  },
  {
   "cell_type": "code",
   "execution_count": 18,
   "metadata": {
    "id": "aKz7ZYQS9DY2"
   },
   "outputs": [],
   "source": [
    "# callback\n",
    "class myCallback(tf.keras.callbacks.Callback):\n",
    "  def on_epoch_end(self, epoch, logs={}):\n",
    "    if((logs.get('mae')< x)and (logs.get('val_mae')< x)):\n",
    "       print(\"\\nMAE & Val_MAE of the model < 10% of data scale\")\n",
    "       self.model.stop_training = True\n",
    "callbacks = myCallback()"
   ]
  },
  {
   "cell_type": "code",
   "execution_count": 19,
   "metadata": {
    "colab": {
     "base_uri": "https://localhost:8080/"
    },
    "id": "oGq8l2Gf9DgQ",
    "outputId": "fd09492c-cc04-48a6-bf39-4343ec091c5e"
   },
   "outputs": [
    {
     "name": "stdout",
     "output_type": "stream",
     "text": [
      "Epoch 1/100\n",
      "174/174 [==============================] - 10s 25ms/step - loss: 1161.6213 - mae: 1162.1211 - val_loss: 1183.5518 - val_mae: 1184.0516\n",
      "Epoch 2/100\n",
      "174/174 [==============================] - 3s 19ms/step - loss: 1120.3953 - mae: 1120.8952 - val_loss: 1149.7379 - val_mae: 1150.2378\n",
      "Epoch 3/100\n",
      "174/174 [==============================] - 4s 20ms/step - loss: 1093.6830 - mae: 1094.1826 - val_loss: 1129.3185 - val_mae: 1129.8182\n",
      "Epoch 4/100\n",
      "174/174 [==============================] - 4s 19ms/step - loss: 1076.6409 - mae: 1077.1400 - val_loss: 1114.7183 - val_mae: 1115.2177\n",
      "Epoch 5/100\n",
      "174/174 [==============================] - 4s 20ms/step - loss: 1063.3154 - mae: 1063.8152 - val_loss: 1102.0355 - val_mae: 1102.5347\n",
      "Epoch 6/100\n",
      "174/174 [==============================] - 4s 20ms/step - loss: 1051.6646 - mae: 1052.1635 - val_loss: 1090.7339 - val_mae: 1091.2331\n",
      "Epoch 7/100\n",
      "174/174 [==============================] - 4s 20ms/step - loss: 1041.4886 - mae: 1041.9880 - val_loss: 1080.7805 - val_mae: 1081.2795\n",
      "Epoch 8/100\n",
      "174/174 [==============================] - 4s 20ms/step - loss: 1032.2749 - mae: 1032.7744 - val_loss: 1071.6819 - val_mae: 1072.1810\n",
      "Epoch 9/100\n",
      "174/174 [==============================] - 3s 19ms/step - loss: 1023.7416 - mae: 1024.2412 - val_loss: 1063.2848 - val_mae: 1063.7844\n",
      "Epoch 10/100\n",
      "174/174 [==============================] - 3s 19ms/step - loss: 1015.7927 - mae: 1016.2920 - val_loss: 1055.4209 - val_mae: 1055.9206\n",
      "Epoch 11/100\n",
      "174/174 [==============================] - 3s 19ms/step - loss: 1008.1812 - mae: 1008.6806 - val_loss: 1047.8174 - val_mae: 1048.3167\n",
      "Epoch 12/100\n",
      "174/174 [==============================] - 3s 19ms/step - loss: 1000.9448 - mae: 1001.4446 - val_loss: 1040.6885 - val_mae: 1041.1880\n",
      "Epoch 13/100\n",
      "174/174 [==============================] - 4s 19ms/step - loss: 994.2054 - mae: 994.7051 - val_loss: 1034.0128 - val_mae: 1034.5121\n",
      "Epoch 14/100\n",
      "174/174 [==============================] - 4s 19ms/step - loss: 987.8878 - mae: 988.3876 - val_loss: 1027.8075 - val_mae: 1028.3074\n",
      "Epoch 15/100\n",
      "174/174 [==============================] - 4s 20ms/step - loss: 981.9133 - mae: 982.4129 - val_loss: 1021.9043 - val_mae: 1022.4040\n",
      "Epoch 16/100\n",
      "174/174 [==============================] - 3s 19ms/step - loss: 976.1974 - mae: 976.6971 - val_loss: 1016.2377 - val_mae: 1016.7376\n",
      "Epoch 17/100\n",
      "174/174 [==============================] - 4s 19ms/step - loss: 970.6837 - mae: 971.1830 - val_loss: 1010.6970 - val_mae: 1011.1967\n",
      "Epoch 18/100\n",
      "174/174 [==============================] - 4s 20ms/step - loss: 965.2020 - mae: 965.7019 - val_loss: 1005.0776 - val_mae: 1005.5775\n",
      "Epoch 19/100\n",
      "174/174 [==============================] - 4s 20ms/step - loss: 959.6151 - mae: 960.1147 - val_loss: 999.4882 - val_mae: 999.9880\n",
      "Epoch 20/100\n",
      "174/174 [==============================] - 4s 20ms/step - loss: 954.0861 - mae: 954.5859 - val_loss: 993.9445 - val_mae: 994.4444\n",
      "Epoch 21/100\n",
      "174/174 [==============================] - 4s 19ms/step - loss: 948.5482 - mae: 949.0481 - val_loss: 988.3898 - val_mae: 988.8898\n",
      "Epoch 22/100\n",
      "174/174 [==============================] - 4s 20ms/step - loss: 943.0506 - mae: 943.5505 - val_loss: 982.8148 - val_mae: 983.3145\n",
      "Epoch 23/100\n",
      "174/174 [==============================] - 4s 19ms/step - loss: 937.6079 - mae: 938.1078 - val_loss: 977.3317 - val_mae: 977.8313\n",
      "Epoch 24/100\n",
      "174/174 [==============================] - 4s 20ms/step - loss: 932.1663 - mae: 932.6660 - val_loss: 971.9911 - val_mae: 972.4909\n",
      "Epoch 25/100\n",
      "174/174 [==============================] - 4s 20ms/step - loss: 926.9889 - mae: 927.4886 - val_loss: 966.9686 - val_mae: 967.4684\n",
      "Epoch 26/100\n",
      "174/174 [==============================] - 3s 19ms/step - loss: 921.9719 - mae: 922.4720 - val_loss: 961.9138 - val_mae: 962.4135\n",
      "Epoch 27/100\n",
      "174/174 [==============================] - 4s 20ms/step - loss: 917.0068 - mae: 917.5068 - val_loss: 956.9257 - val_mae: 957.4256\n",
      "Epoch 28/100\n",
      "174/174 [==============================] - 4s 19ms/step - loss: 912.1600 - mae: 912.6598 - val_loss: 952.1141 - val_mae: 952.6140\n",
      "Epoch 29/100\n",
      "174/174 [==============================] - 4s 20ms/step - loss: 907.4611 - mae: 907.9606 - val_loss: 947.3907 - val_mae: 947.8906\n",
      "Epoch 30/100\n",
      "174/174 [==============================] - 4s 20ms/step - loss: 902.8018 - mae: 903.3014 - val_loss: 942.6449 - val_mae: 943.1445\n",
      "Epoch 31/100\n",
      "174/174 [==============================] - 4s 20ms/step - loss: 898.1557 - mae: 898.6557 - val_loss: 937.9235 - val_mae: 938.4232\n",
      "Epoch 32/100\n",
      "174/174 [==============================] - 4s 20ms/step - loss: 893.5266 - mae: 894.0266 - val_loss: 933.1819 - val_mae: 933.6816\n",
      "Epoch 33/100\n",
      "174/174 [==============================] - 4s 20ms/step - loss: 888.8511 - mae: 889.3507 - val_loss: 928.3491 - val_mae: 928.8490\n",
      "Epoch 34/100\n",
      "174/174 [==============================] - 4s 20ms/step - loss: 884.0636 - mae: 884.5635 - val_loss: 923.4156 - val_mae: 923.9156\n",
      "Epoch 35/100\n",
      "174/174 [==============================] - 4s 20ms/step - loss: 879.2119 - mae: 879.7118 - val_loss: 918.4409 - val_mae: 918.9407\n",
      "Epoch 36/100\n",
      "174/174 [==============================] - 4s 20ms/step - loss: 874.3341 - mae: 874.8339 - val_loss: 913.4405 - val_mae: 913.9403\n",
      "Epoch 37/100\n",
      "174/174 [==============================] - 4s 19ms/step - loss: 869.4323 - mae: 869.9320 - val_loss: 908.4142 - val_mae: 908.9143\n",
      "Epoch 38/100\n",
      "174/174 [==============================] - 4s 20ms/step - loss: 864.4859 - mae: 864.9856 - val_loss: 903.3591 - val_mae: 903.8590\n",
      "Epoch 39/100\n",
      "174/174 [==============================] - 4s 20ms/step - loss: 859.5053 - mae: 860.0053 - val_loss: 898.2170 - val_mae: 898.7169\n",
      "Epoch 40/100\n",
      "174/174 [==============================] - 4s 20ms/step - loss: 854.4894 - mae: 854.9891 - val_loss: 893.0186 - val_mae: 893.5181\n",
      "Epoch 41/100\n",
      "174/174 [==============================] - 4s 20ms/step - loss: 849.5301 - mae: 850.0300 - val_loss: 887.8645 - val_mae: 888.3643\n",
      "Epoch 42/100\n",
      "174/174 [==============================] - 4s 20ms/step - loss: 844.5648 - mae: 845.0644 - val_loss: 882.7325 - val_mae: 883.2323\n",
      "Epoch 43/100\n",
      "174/174 [==============================] - 4s 20ms/step - loss: 839.5016 - mae: 840.0012 - val_loss: 877.5598 - val_mae: 878.0598\n",
      "Epoch 44/100\n",
      "174/174 [==============================] - 4s 20ms/step - loss: 834.1835 - mae: 834.6835 - val_loss: 871.9562 - val_mae: 872.4558\n",
      "Epoch 45/100\n",
      "174/174 [==============================] - 4s 20ms/step - loss: 828.6339 - mae: 829.1338 - val_loss: 866.4063 - val_mae: 866.9061\n",
      "Epoch 46/100\n",
      "174/174 [==============================] - 3s 19ms/step - loss: 823.7106 - mae: 824.2105 - val_loss: 861.3488 - val_mae: 861.8487\n",
      "Epoch 47/100\n",
      "174/174 [==============================] - 4s 19ms/step - loss: 819.0041 - mae: 819.5041 - val_loss: 856.2220 - val_mae: 856.7217\n",
      "Epoch 48/100\n",
      "174/174 [==============================] - 4s 19ms/step - loss: 814.0589 - mae: 814.5585 - val_loss: 850.9302 - val_mae: 851.4301\n",
      "Epoch 49/100\n",
      "174/174 [==============================] - 4s 20ms/step - loss: 809.0186 - mae: 809.5188 - val_loss: 845.5892 - val_mae: 846.0889\n",
      "Epoch 50/100\n",
      "174/174 [==============================] - 4s 20ms/step - loss: 803.9813 - mae: 804.4813 - val_loss: 840.2632 - val_mae: 840.7631\n",
      "Epoch 51/100\n",
      "174/174 [==============================] - 4s 20ms/step - loss: 799.0748 - mae: 799.5746 - val_loss: 835.0435 - val_mae: 835.5435\n",
      "Epoch 52/100\n",
      "174/174 [==============================] - 4s 20ms/step - loss: 794.2452 - mae: 794.7452 - val_loss: 829.9651 - val_mae: 830.4651\n",
      "Epoch 53/100\n",
      "174/174 [==============================] - 4s 20ms/step - loss: 789.5168 - mae: 790.0167 - val_loss: 825.0376 - val_mae: 825.5374\n",
      "Epoch 54/100\n",
      "174/174 [==============================] - 4s 19ms/step - loss: 784.9280 - mae: 785.4279 - val_loss: 820.2214 - val_mae: 820.7213\n",
      "Epoch 55/100\n",
      "174/174 [==============================] - 4s 20ms/step - loss: 780.4227 - mae: 780.9223 - val_loss: 815.4518 - val_mae: 815.9516\n",
      "Epoch 56/100\n",
      "174/174 [==============================] - 4s 20ms/step - loss: 776.0081 - mae: 776.5078 - val_loss: 810.7662 - val_mae: 811.2659\n",
      "Epoch 57/100\n",
      "174/174 [==============================] - 4s 20ms/step - loss: 771.6538 - mae: 772.1539 - val_loss: 806.0821 - val_mae: 806.5821\n",
      "Epoch 58/100\n",
      "174/174 [==============================] - 4s 19ms/step - loss: 767.3649 - mae: 767.8648 - val_loss: 801.4766 - val_mae: 801.9766\n",
      "Epoch 59/100\n",
      "174/174 [==============================] - 3s 19ms/step - loss: 763.0830 - mae: 763.5827 - val_loss: 796.8695 - val_mae: 797.3694\n",
      "Epoch 60/100\n",
      "174/174 [==============================] - 4s 20ms/step - loss: 758.8666 - mae: 759.3662 - val_loss: 792.3411 - val_mae: 792.8409\n",
      "Epoch 61/100\n",
      "174/174 [==============================] - 4s 20ms/step - loss: 754.7265 - mae: 755.2261 - val_loss: 787.8800 - val_mae: 788.3796\n",
      "Epoch 62/100\n",
      "172/174 [============================>.] - ETA: 0s - loss: 748.6174 - mae: 749.1171\n",
      "MAE & Val_MAE of the model < 10% of data scale\n",
      "174/174 [==============================] - 4s 20ms/step - loss: 750.6475 - mae: 751.1472 - val_loss: 783.4016 - val_mae: 783.9014\n"
     ]
    }
   ],
   "source": [
    "tf.keras.backend.set_floatx('float64')\n",
    "history = model.fit(data_x_train ,epochs=100, validation_data=data_x_test, callbacks=[callbacks])"
   ]
  },
  {
   "cell_type": "markdown",
   "metadata": {
    "id": "EqWK8BsVPEgd"
   },
   "source": [
    "PLOT LOSS & MAE"
   ]
  },
  {
   "cell_type": "code",
   "execution_count": 20,
   "metadata": {
    "colab": {
     "base_uri": "https://localhost:8080/",
     "height": 513
    },
    "id": "kKPPhLduPGuN",
    "outputId": "ebdcee79-a223-4bd2-da73-c353af9fd9cc"
   },
   "outputs": [
    {
     "data": {
      "image/png": "[encoded data removed]",
      "text/plain": [
       "<Figure size 1152x576 with 2 Axes>"
      ]
     },
     "metadata": {
      "needs_background": "light"
     },
     "output_type": "display_data"
    }
   ],
   "source": [
    "loss = history.history['loss']\n",
    "val_loss = history.history['val_loss']\n",
    "mae = history.history['mae']\n",
    "val_mae = history.history['val_mae']\n",
    "\n",
    "plt.figure(figsize=(16, 8))\n",
    "\n",
    "plt.subplot(1, 2, 1)\n",
    "plt.title('Loss')\n",
    "plt.xlabel('Epoch')\n",
    "plt.ylabel('Loss')\n",
    "plt.plot(loss, label='Training set')\n",
    "plt.plot(val_loss, label='Test set', linestyle='--')\n",
    "plt.legend()\n",
    "plt.grid(linestyle='--', linewidth=1, alpha=0.5)\n",
    "\n",
    "plt.subplot(1, 2, 2)\n",
    "plt.title('MAE')\n",
    "plt.xlabel('Epoch')\n",
    "plt.ylabel('MAE')\n",
    "plt.plot(mae, label='Training set')\n",
    "plt.plot(val_mae, label='Test set', linestyle='--')\n",
    "plt.legend()\n",
    "plt.grid(linestyle='--', linewidth=1, alpha=0.5)\n",
    "\n",
    "plt.show()"
   ]
  }
 ],
 "metadata": {
  "accelerator": "GPU",
  "colab": {
   "collapsed_sections": [],
   "name": "submission_2_TimeSeries_NurBaitiNasution.ipynb",
   "provenance": []
  },
  "kernelspec": {
   "display_name": "Python 3 (ipykernel)",
   "language": "python",
   "name": "python3"
  },
  "language_info": {
   "codemirror_mode": {
    "name": "ipython",
    "version": 3
   },
   "file_extension": ".py",
   "mimetype": "text/x-python",
   "name": "python",
   "nbconvert_exporter": "python",
   "pygments_lexer": "ipython3",
   "version": "3.9.2"
  }
 },
 "nbformat": 4,
 "nbformat_minor": 1
}
